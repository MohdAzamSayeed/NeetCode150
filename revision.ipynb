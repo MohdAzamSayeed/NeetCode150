{
 "cells": [
  {
   "cell_type": "code",
   "execution_count": 4,
   "id": "15a01824",
   "metadata": {},
   "outputs": [
    {
     "data": {
      "text/plain": [
       "True"
      ]
     },
     "execution_count": 4,
     "metadata": {},
     "output_type": "execute_result"
    }
   ],
   "source": [
    "def duplicate_val(nums: list[int]) -> bool:\n",
    "    hashset= set()\n",
    "    for n in nums:\n",
    "        if n not in hashset:\n",
    "            hashset.add(n)\n",
    "        else:\n",
    "            return True\n",
    "    return False\n",
    "\n",
    "duplicate_val([1,2,3,1])"
   ]
  },
  {
   "cell_type": "code",
   "execution_count": null,
   "id": "9c46bf29",
   "metadata": {},
   "outputs": [
    {
     "data": {
      "text/plain": [
       "4"
      ]
     },
     "execution_count": 9,
     "metadata": {},
     "output_type": "execute_result"
    }
   ],
   "source": [
    "#3\n",
    "def missing_val(nums: list[int]) -> int: #O(nlogn)\n",
    "    nums.sort()\n",
    "\n",
    "    for i,v in enumerate(nums):\n",
    "        if (i!=v):\n",
    "            return i\n",
    "    \n",
    "missing_val([3,5,1,2,0])"
   ]
  },
  {
   "cell_type": "code",
   "execution_count": 10,
   "id": "9e09649f",
   "metadata": {},
   "outputs": [
    {
     "data": {
      "text/plain": [
       "[5, 6]"
      ]
     },
     "execution_count": 10,
     "metadata": {},
     "output_type": "execute_result"
    }
   ],
   "source": [
    "#array - nums [1,n]\n",
    "def missing_vals(nums: list[int]) -> int:\n",
    "    set_nums = set(nums)\n",
    "    ret = []\n",
    "    for i in range(1,len(nums)+1):\n",
    "        if i not in set_nums:\n",
    "            ret.append(i)\n",
    "    return ret\n",
    "missing_vals([4,3,2,7,8,2,3,1])"
   ]
  },
  {
   "cell_type": "code",
   "execution_count": 19,
   "id": "47a3aef9",
   "metadata": {},
   "outputs": [
    {
     "data": {
      "text/plain": [
       "[3, 1]"
      ]
     },
     "execution_count": 19,
     "metadata": {},
     "output_type": "execute_result"
    }
   ],
   "source": [
    "def twosum(nums, target):\n",
    "    map_v = dict()\n",
    "    for iter, num in enumerate(nums):\n",
    "        diff = target - num\n",
    "        if diff not in map_v:\n",
    "            map_v[num] = iter\n",
    "        else:\n",
    "            return [iter, map_v[diff]]\n",
    "twosum([2,7,11,15], 22)"
   ]
  },
  {
   "cell_type": "code",
   "execution_count": 22,
   "id": "8f3f4a26",
   "metadata": {},
   "outputs": [
    {
     "data": {
      "text/plain": [
       "5"
      ]
     },
     "execution_count": 22,
     "metadata": {},
     "output_type": "execute_result"
    }
   ],
   "source": [
    "def maxProf(prices):\n",
    "    l,r=0,1\n",
    "    maxProf = 0\n",
    "    while r!= len(prices):\n",
    "        if prices[r]<prices[l]:\n",
    "            l=r\n",
    "        else:\n",
    "            prof = prices[r]-prices[l]\n",
    "            maxProf = max(maxProf, prof)\n",
    "        r+=1\n",
    "    return maxProf\n",
    "\n",
    "maxProf([7,1,5,3,6,4])"
   ]
  }
 ],
 "metadata": {
  "kernelspec": {
   "display_name": ".venv",
   "language": "python",
   "name": "python3"
  },
  "language_info": {
   "codemirror_mode": {
    "name": "ipython",
    "version": 3
   },
   "file_extension": ".py",
   "mimetype": "text/x-python",
   "name": "python",
   "nbconvert_exporter": "python",
   "pygments_lexer": "ipython3",
   "version": "3.12.1"
  }
 },
 "nbformat": 4,
 "nbformat_minor": 5
}
