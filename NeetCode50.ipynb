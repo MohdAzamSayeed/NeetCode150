{
 "cells": [
  {
   "cell_type": "markdown",
   "metadata": {},
   "source": [
    "1) LC-217.\"Contains Duplicates\"\n",
    "https://leetcode.com/problems/contains-duplicate/description/\n",
    " Given an integer array nums, return true if any value appears at least twice in the array, and return false if every element is distinct."
   ]
  },
  {
   "cell_type": "markdown",
   "metadata": {},
   "source": [
    "Example 1:\n",
    "Input: nums = [1,2,3,1]\n",
    "Output: true\n",
    "Explanation:\n",
    "The element 1 occurs at the indices 0 and 3.\n",
    "\n",
    "Example 2:\n",
    "Input: nums = [1,2,3,4]\n",
    "Output: false\n",
    "Explanation:\n",
    "All elements are distinct.\n",
    "\n",
    "Example 3:\n",
    "Input: nums = [1,1,1,3,3,4,3,2,4,2]\n",
    "Output: true"
   ]
  },
  {
   "cell_type": "code",
   "execution_count": null,
   "metadata": {},
   "outputs": [
    {
     "data": {
      "text/plain": [
       "True"
      ]
     },
     "execution_count": 8,
     "metadata": {},
     "output_type": "execute_result"
    }
   ],
   "source": [
    "#time & space complexity: O(n)\n",
    "class Solution:\n",
    "    def containsDuplicate(self, nums: list[int]) -> bool:\n",
    "        hashset = set()\n",
    "        for num in nums:\n",
    "            if num in hashset:\n",
    "                return True\n",
    "            else:\n",
    "                hashset.add(num)\n",
    "        return False\n",
    "\n",
    "s= Solution()\n",
    "s.containsDuplicate([1,2,3,1])\n",
    "#s.containsDuplicate([1,2,3,4])"
   ]
  },
  {
   "cell_type": "markdown",
   "metadata": {},
   "source": [
    "2) LC-242.\"Valid Anagram\"\n",
    "https://leetcode.com/problems/valid-anagram/description/\n",
    "Given two strings s and t, return true if t is an anagram of s, and false otherwise."
   ]
  },
  {
   "cell_type": "markdown",
   "metadata": {},
   "source": [
    "Example 1: Input: s = \"anagram\", t = \"nagaram\" Output: true\n",
    "\n",
    "Example 2: Input: s = \"rat\", t = \"car\" Output: false"
   ]
  },
  {
   "cell_type": "code",
   "execution_count": 11,
   "metadata": {},
   "outputs": [
    {
     "data": {
      "text/plain": [
       "True"
      ]
     },
     "execution_count": 11,
     "metadata": {},
     "output_type": "execute_result"
    }
   ],
   "source": [
    "#time complexity:o(n) , space complexity o(1)\n",
    "class Solution:\n",
    "    def isAnagram(self, s: str, t: str) -> bool:\n",
    "        if len (s) != len(t):\n",
    "            return False\n",
    "        \n",
    "        counts_arr = [0]*26\n",
    "        for char in s:\n",
    "            counts_arr[ord(char)-ord('a')]+=1\n",
    "            counts_arr[ord(char)-ord('a')]-=1\n",
    "        \n",
    "        for count in counts_arr:\n",
    "            if count !=0:\n",
    "                return False\n",
    "        return True\n",
    "    \n",
    "s=Solution()\n",
    "s.isAnagram(\"anagram\", \"nagaram\")"
   ]
  },
  {
   "cell_type": "markdown",
   "metadata": {},
   "source": [
    "3) LC-1, \"two sum\"\n",
    "https://leetcode.com/problems/two-sum/description/\n",
    "\n",
    "Given an array of integers nums and an integer target, return indices of the two numbers such that they add up to target.You may assume that each input would have exactly one solution, and you may not use the same element twice.\n",
    "You can return the answer in any order."
   ]
  },
  {
   "cell_type": "markdown",
   "metadata": {},
   "source": [
    "Example 1:Input: nums = [2,7,11,15], target = 9 Output: [0,1] \n",
    "Explanation: Because nums[0] + nums[1] == 9, we return [0, 1].\n",
    "\n",
    "Example 2: Input: nums = [3,2,4], target = 6, Output: [1,2]\n",
    "\n",
    "Example 3:Input: nums = [3,3], target = 6, Output: [0,1]\n",
    " "
   ]
  },
  {
   "cell_type": "code",
   "execution_count": 14,
   "metadata": {},
   "outputs": [
    {
     "data": {
      "text/plain": [
       "[0, 2]"
      ]
     },
     "execution_count": 14,
     "metadata": {},
     "output_type": "execute_result"
    }
   ],
   "source": [
    "#time:O(n), space:O(n)\n",
    "class Solution:\n",
    "    def twoSum(self, nums: list[int], target: int) -> list[int]:\n",
    "        map = {}\n",
    "\n",
    "        for ind, num in enumerate(nums):\n",
    "            diff = target - num\n",
    "            if diff in map:\n",
    "                return [map[diff], ind]\n",
    "            \n",
    "            map[num] = ind\n",
    "\n",
    "s=Solution()\n",
    "s.twoSum([2,7,11,15], 13)"
   ]
  },
  {
   "cell_type": "markdown",
   "metadata": {},
   "source": [
    "4) LC-49 \"Group Anagrams\"\n",
    "https://leetcode.com/problems/group-anagrams/description/\n",
    "Given an array of strings strs, group the anagrams together. You can return the answer in any order."
   ]
  },
  {
   "cell_type": "markdown",
   "metadata": {},
   "source": [
    "Example 1:Input: strs = [\"eat\",\"tea\",\"tan\",\"ate\",\"nat\",\"bat\"], Output: [[\"bat\"],[\"nat\",\"tan\"],[\"ate\",\"eat\",\"tea\"]]\n",
    "Explanation:\n",
    "There is no string in strs that can be rearranged to form \"bat\". The strings \"nat\" and \"tan\" are anagrams as they can be rearranged to form each other.The strings \"ate\", \"eat\", and \"tea\" are anagrams as they can be rearranged to form each other.\n",
    "Example 2:Input: strs = [\"\"], Output: [[\"\"]]\n",
    "Example 3:Input: strs = [\"a\"], Output: [[\"a\"]]"
   ]
  },
  {
   "cell_type": "code",
   "execution_count": 19,
   "metadata": {},
   "outputs": [
    {
     "data": {
      "text/plain": [
       "[['eat', 'tea', 'ate'], ['tan', 'nat'], ['bat']]"
      ]
     },
     "execution_count": 19,
     "metadata": {},
     "output_type": "execute_result"
    }
   ],
   "source": [
    "#Time : O(n*k), space:  O(n*k)\n",
    "class Solution:\n",
    "    def groupAnagrams(self, strs: list[str]) -> list[list[str]]:\n",
    "\n",
    "        if len(strs) == 0:\n",
    "            return []\n",
    "\n",
    "        map = {}\n",
    "        for str in strs:\n",
    "            count = [0]*26\n",
    "            for char in str:\n",
    "                count[ord(char)-ord('a')]+=1\n",
    "            count_repr = tuple(count)\n",
    "            if count_repr in map:\n",
    "                map[count_repr].append(str)\n",
    "            else:\n",
    "                map[count_repr] = [str]\n",
    "        return list(map.values())\n",
    "\n",
    "s=Solution()\n",
    "s.groupAnagrams([\"eat\",\"tea\",\"tan\",\"ate\",\"nat\",\"bat\"])"
   ]
  },
  {
   "cell_type": "markdown",
   "metadata": {},
   "source": [
    "5) LC-347 \"Top K Frequent Elements\"\n",
    "https://leetcode.com/problems/top-k-frequent-elements/description/\n",
    "Given an integer array nums and an integer k, return the k most frequent elements. You may return the answer in any order."
   ]
  },
  {
   "cell_type": "markdown",
   "metadata": {},
   "source": [
    "Example 1: Input: nums = [1,1,1,2,2,3], k = 2 Output: [1,2]\n",
    "Example 2: Input: nums = [1], k = 1, Output: [1]"
   ]
  },
  {
   "cell_type": "code",
   "execution_count": 4,
   "metadata": {},
   "outputs": [
    {
     "data": {
      "text/plain": [
       "[2, 1]"
      ]
     },
     "execution_count": 4,
     "metadata": {},
     "output_type": "execute_result"
    }
   ],
   "source": [
    "#hashmap +heap (priority queue)\n",
    "#time complexity: o(nlogk), space complexity O(n)\n",
    "import heapq\n",
    "\n",
    "class Solution:\n",
    "    def topKFrequent(self, nums: list[int], k: int) -> list[int]:\n",
    "\n",
    "        if (k == len(nums)):\n",
    "            return nums\n",
    "        \n",
    "        count_map = {}\n",
    "        for num in nums:\n",
    "            if num in count_map:\n",
    "                count_map[num]+=1\n",
    "            else:\n",
    "                count_map[num]=1\n",
    "\n",
    "        pq=[]\n",
    "        for num, freq in count_map.items():\n",
    "            heapq.heappush(pq, (freq, num))\n",
    "            if len(pq)>k:\n",
    "                heapq.heappop(pq)\n",
    "        return [num for freq, num in pq]\n",
    "\n",
    "Solution().topKFrequent([1,1,1,2,2,3], 2)"
   ]
  },
  {
   "cell_type": "markdown",
   "metadata": {},
   "source": [
    "6. LC-238 \"Product of Array Except Self\"\n",
    "Given an integer array nums, return an array answer such that answer[i] is equal to the product of all the elements of nums except nums[i].\n",
    "The product of any prefix or suffix of nums is guaranteed to fit in a 32-bit integer.\n",
    "You must write an algorithm that runs in O(n) time and without using the division operation."
   ]
  },
  {
   "cell_type": "markdown",
   "metadata": {},
   "source": [
    "Example 1:Input: nums = [1,2,3,4], Output: [24,12,8,6]\n",
    "Example 2: Input: nums = [-1,1,0,-3,3], Output: [0,0,9,0,0]"
   ]
  },
  {
   "cell_type": "code",
   "execution_count": 19,
   "metadata": {},
   "outputs": [
    {
     "data": {
      "text/plain": [
       "[24, 12, 8, 6]"
      ]
     },
     "execution_count": 19,
     "metadata": {},
     "output_type": "execute_result"
    }
   ],
   "source": [
    "#time complexity: O(2n), space O(1)\n",
    "\n",
    "class Solution:\n",
    "    def productExceptSelf(self, nums: list[int]) -> list[int]:\n",
    "\n",
    "        pre, post = 1, 1\n",
    "        result = [1]*len(nums)\n",
    "\n",
    "        # print(f\"nums: {nums}\")\n",
    "        for i in range(0,len(nums)):\n",
    "            result[i] = pre\n",
    "            pre = nums[i]*pre\n",
    "        \n",
    "        for i in range(len(nums)-1, -1, -1):\n",
    "            result[i] = result[i]*post\n",
    "            post = post*nums[i]\n",
    "            #print(result, post)\n",
    "        \n",
    "        return result\n",
    "\n",
    "Solution().productExceptSelf([1,2,3,4])\n"
   ]
  },
  {
   "cell_type": "markdown",
   "metadata": {},
   "source": [
    "7. LC-36 \"Valid Sukoku\"\n",
    "Determine if a 9 x 9 Sudoku board is valid. Only the filled cells need to be validated according to the following rules:\n",
    "\n",
    "Each row must contain the digits 1-9 without repetition.\n",
    "Each column must contain the digits 1-9 without repetition.\n",
    "Each of the nine 3 x 3 sub-boxes of the grid must contain the digits 1-9 without repetition.\n",
    "Note:\n",
    "\n",
    "A Sudoku board (partially filled) could be valid but is not necessarily solvable.\n",
    "Only the filled cells need to be validated according to the mentioned rules."
   ]
  },
  {
   "cell_type": "markdown",
   "metadata": {},
   "source": [
    "Input: board = \n",
    "[[\"5\",\"3\",\".\",\".\",\"7\",\".\",\".\",\".\",\".\"]\n",
    ",[\"6\",\".\",\".\",\"1\",\"9\",\"5\",\".\",\".\",\".\"]\n",
    ",[\".\",\"9\",\"8\",\".\",\".\",\".\",\".\",\"6\",\".\"]\n",
    ",[\"8\",\".\",\".\",\".\",\"6\",\".\",\".\",\".\",\"3\"]\n",
    ",[\"4\",\".\",\".\",\"8\",\".\",\"3\",\".\",\".\",\"1\"]\n",
    ",[\"7\",\".\",\".\",\".\",\"2\",\".\",\".\",\".\",\"6\"]\n",
    ",[\".\",\"6\",\".\",\".\",\".\",\".\",\"2\",\"8\",\".\"]\n",
    ",[\".\",\".\",\".\",\"4\",\"1\",\"9\",\".\",\".\",\"5\"]\n",
    ",[\".\",\".\",\".\",\".\",\"8\",\".\",\".\",\"7\",\"9\"]]\n",
    "Output: true\n",
    "Example 2:\n",
    "\n",
    "Input: board = \n",
    "[[\"8\",\"3\",\".\",\".\",\"7\",\".\",\".\",\".\",\".\"]\n",
    ",[\"6\",\".\",\".\",\"1\",\"9\",\"5\",\".\",\".\",\".\"]\n",
    ",[\".\",\"9\",\"8\",\".\",\".\",\".\",\".\",\"6\",\".\"]\n",
    ",[\"8\",\".\",\".\",\".\",\"6\",\".\",\".\",\".\",\"3\"]\n",
    ",[\"4\",\".\",\".\",\"8\",\".\",\"3\",\".\",\".\",\"1\"]\n",
    ",[\"7\",\".\",\".\",\".\",\"2\",\".\",\".\",\".\",\"6\"]\n",
    ",[\".\",\"6\",\".\",\".\",\".\",\".\",\"2\",\"8\",\".\"]\n",
    ",[\".\",\".\",\".\",\"4\",\"1\",\"9\",\".\",\".\",\"5\"]\n",
    ",[\".\",\".\",\".\",\".\",\"8\",\".\",\".\",\"7\",\"9\"]]\n",
    "Output: false\n",
    "Explanation: Same as Example 1, except with the 5 in the top left corner being modified to 8. Since there are two 8's in the top left 3x3 sub-box, it is invalid."
   ]
  },
  {
   "cell_type": "code",
   "execution_count": null,
   "metadata": {},
   "outputs": [
    {
     "data": {
      "text/plain": [
       "True"
      ]
     },
     "execution_count": 18,
     "metadata": {},
     "output_type": "execute_result"
    }
   ],
   "source": [
    "# time complextity: O(n^2), space : O(3n)\n",
    "class Solution:\n",
    "    def isValidSudoku(self, board: list[list[str]]) -> bool:\n",
    "        n=9\n",
    "        #'set' object does not support item assignment so use list of sets\n",
    "        row= [set() for _ in range(9)]\n",
    "        cols = [set() for _ in range(9)]\n",
    "        boxes = [set() for _ in range(9)]\n",
    "\n",
    "        for r in range(n):\n",
    "            for c in range(n):\n",
    "                number = board[r][c]\n",
    "\n",
    "                if number == '.':\n",
    "                    continue\n",
    "\n",
    "                if number in row[r]:\n",
    "                    return False\n",
    "                row[r].add(number)\n",
    "\n",
    "                if number in cols[c]:\n",
    "                    return False\n",
    "                cols[c].add(number)\n",
    "\n",
    "                box_idx = (r//3) *3 +c//3\n",
    "                if number in boxes[box_idx]:\n",
    "                    return False\n",
    "                boxes[box_idx].add(number)\n",
    "            \n",
    "        return True\n",
    "\n",
    "\n",
    "board=[[\"5\",\"3\",\".\",\".\",\"7\",\".\",\".\",\".\",\".\"]\n",
    ",[\"6\",\".\",\".\",\"1\",\"9\",\"5\",\".\",\".\",\".\"]\n",
    ",[\".\",\"9\",\"8\",\".\",\".\",\".\",\".\",\"6\",\".\"]\n",
    ",[\"8\",\".\",\".\",\".\",\"6\",\".\",\".\",\".\",\"3\"]\n",
    ",[\"4\",\".\",\".\",\"8\",\".\",\"3\",\".\",\".\",\"1\"]\n",
    ",[\"7\",\".\",\".\",\".\",\"2\",\".\",\".\",\".\",\"6\"]\n",
    ",[\".\",\"6\",\".\",\".\",\".\",\".\",\"2\",\"8\",\".\"]\n",
    ",[\".\",\".\",\".\",\"4\",\"1\",\"9\",\".\",\".\",\"5\"]\n",
    ",[\".\",\".\",\".\",\".\",\"8\",\".\",\".\",\"7\",\"9\"]]\n",
    "\n",
    "Solution().isValidSudoku(board)"
   ]
  },
  {
   "cell_type": "markdown",
   "metadata": {},
   "source": [
    "8. LC-271 \"Encode and Decode Strings\"\n",
    "Design an algorithm to encode a list of strings to a single string. The encoded string is then decoded back to the original list of strings.\n",
    "\n",
    "Please implement encode and decode"
   ]
  },
  {
   "cell_type": "markdown",
   "metadata": {},
   "source": [
    "Example:\n",
    "Input: [\"neet\",\"code\",\"love\",\"you\"]\n",
    "Output:[\"neet\",\"code\",\"love\",\"you\"]"
   ]
  },
  {
   "cell_type": "code",
   "execution_count": 25,
   "metadata": {},
   "outputs": [
    {
     "name": "stdout",
     "output_type": "stream",
     "text": [
      "4#leet4#code2#is3#fun\n",
      "Decoded: ['leet', 'code', 'is', 'fun']\n"
     ]
    }
   ],
   "source": [
    "class Solution:\n",
    "\n",
    "    def encode(self, strs: list[str]) -> str:\n",
    "        encoded = \"\"\n",
    "        for s in strs:\n",
    "            encoded += str(len(s))+'#'+s\n",
    "        return encoded\n",
    "\n",
    "    def decode(self, s: str) -> list[str]:\n",
    "        decoded = []\n",
    "        i=0\n",
    "        while i <len(s):\n",
    "            j=s.find('#',i)\n",
    "            length = int(s[i:j])\n",
    "            decoded.append(s[j+1:j+1+length])\n",
    "            i=j+1+length\n",
    "            #print(j, length, i)\n",
    "        return decoded\n",
    "\n",
    "s= Solution()\n",
    "encoded = s.encode([\"leet\", \"code\", \"is\", \"fun\"])\n",
    "print(encoded)\n",
    "decoded = s.decode(encoded)\n",
    "print(\"Decoded:\", decoded)"
   ]
  },
  {
   "cell_type": "markdown",
   "metadata": {},
   "source": [
    "9. Lc- 128 \"Longest Consecutive Sequence\"\n",
    "Given an unsorted array of integers nums, return the length of the longest consecutive elements sequence.\n",
    "You must write an algorithm that runs in O(n) time."
   ]
  },
  {
   "cell_type": "markdown",
   "metadata": {},
   "source": [
    "Example 1:\n",
    "Input: nums = [100,4,200,1,3,2]\n",
    "Output: 4\n",
    "Explanation: The longest consecutive elements sequence is [1, 2, 3, 4]. Therefore its length is 4.\n",
    "Example 2:\n",
    "\n",
    "Input: nums = [0,3,7,2,5,8,4,6,0,1]\n",
    "Output: 9\n",
    "Example 3:\n",
    "Input: nums = [1,0,1,2]\n",
    "Output: 3"
   ]
  },
  {
   "cell_type": "code",
   "execution_count": 38,
   "metadata": {},
   "outputs": [
    {
     "data": {
      "text/plain": [
       "9"
      ]
     },
     "execution_count": 38,
     "metadata": {},
     "output_type": "execute_result"
    }
   ],
   "source": [
    "class Solution:\n",
    "    def longestConsecutive(self, nums: list[int]) -> int:\n",
    "        hashset = set(nums)\n",
    "\n",
    "        longestSub = 1\n",
    "\n",
    "        for num in nums:\n",
    "            if num-1 in hashset:\n",
    "                continue\n",
    "            else:\n",
    "                currentnum=num\n",
    "                currentsub=1\n",
    "                while(currentnum+1 in hashset):\n",
    "                    #print(currentnum)\n",
    "                    currentnum+=1\n",
    "                    currentsub+=1\n",
    "                longestSub = max(currentsub, longestSub)\n",
    "        return longestSub\n",
    "\n",
    "Solution().longestConsecutive([0,3,7,2,5,8,4,6,0,1])"
   ]
  },
  {
   "cell_type": "markdown",
   "metadata": {},
   "source": [
    "10. LC-125 \"Valid palindrome\"\n",
    "https://leetcode.com/problems/valid-palindrome/description/\n",
    "\n",
    "A phrase is a palindrome if, after converting all uppercase letters into lowercase letters and removing all non-alphanumeric characters, it reads the same forward and backward. Alphanumeric characters include letters and numbers.\n",
    "\n",
    "Given a string s, return true if it is a palindrome, or false otherwise."
   ]
  },
  {
   "cell_type": "markdown",
   "metadata": {},
   "source": [
    "Example 1:\n",
    "\n",
    "Input: s = \"A man, a plan, a canal: Panama\"\n",
    "Output: true\n",
    "Explanation: \"amanaplanacanalpanama\" is a palindrome.\n",
    "Example 2:\n",
    "\n",
    "Input: s = \"race a car\"\n",
    "Output: false\n",
    "Explanation: \"raceacar\" is not a palindrome.\n",
    "Example 3:\n",
    "\n",
    "Input: s = \" \"\n",
    "Output: true\n",
    "Explanation: s is an empty string \"\" after removing non-alphanumeric characters.\n",
    "Since an empty string reads the same forward and backward, it is a palindrome."
   ]
  },
  {
   "cell_type": "code",
   "execution_count": 44,
   "metadata": {},
   "outputs": [
    {
     "name": "stdout",
     "output_type": "stream",
     "text": [
      "True\n",
      "False\n"
     ]
    }
   ],
   "source": [
    "#time complexity O(n), space complexity: O(1)\n",
    "class Solution:\n",
    "    def isPalindrome(self, s: str) -> bool:\n",
    "        #filtered = ''.join(char.lower() for char in s if char.isalnum())\n",
    "        # return filtered == filtered[::-1]\n",
    "        left_pointer =0\n",
    "        right_pointer =len(s)-1\n",
    "\n",
    "        while(left_pointer<right_pointer):\n",
    "            #print(left_pointer, right_pointer)\n",
    "            while (left_pointer<right_pointer and not s[left_pointer].isalnum()):\n",
    "                left_pointer+=1\n",
    "            while (left_pointer<right_pointer and not s[right_pointer].isalnum()):\n",
    "                right_pointer-=1\n",
    "            if s[left_pointer].lower() !=s[right_pointer].lower():\n",
    "                return False\n",
    "            left_pointer+=1\n",
    "            right_pointer-=1\n",
    "        return True\n",
    "            \n",
    "\n",
    "# Example usage\n",
    "s1 = \"A man, a plan, a canal: Panama\"\n",
    "s2 = \"race a car\"\n",
    "\n",
    "print(Solution().isPalindrome(s1))  # Output: True\n",
    "print(Solution().isPalindrome(s2))  # Output: False"
   ]
  },
  {
   "cell_type": "markdown",
   "metadata": {},
   "source": []
  }
 ],
 "metadata": {
  "kernelspec": {
   "display_name": ".venv",
   "language": "python",
   "name": "python3"
  },
  "language_info": {
   "codemirror_mode": {
    "name": "ipython",
    "version": 3
   },
   "file_extension": ".py",
   "mimetype": "text/x-python",
   "name": "python",
   "nbconvert_exporter": "python",
   "pygments_lexer": "ipython3",
   "version": "3.12.1"
  }
 },
 "nbformat": 4,
 "nbformat_minor": 2
}
